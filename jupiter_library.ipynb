{
 "cells": [
  {
   "cell_type": "code",
   "execution_count": 2,
   "metadata": {},
   "outputs": [],
   "source": [
    "import requests\n",
    "\n",
    "def get_G_book_details(isbn):\n",
    "    url = f\"https://www.googleapis.com/books/v1/volumes?q=isbn:{isbn}\"\n",
    "    response = requests.get(url)\n",
    "    data = response.json()\n",
    "    return data\n",
    "\n",
    "def get_Open_book_details(isbn):\n",
    "    \n",
    "    url = f\"https://openlibrary.org/api/books?bibkeys=ISBN:{isbn}&format=json\"\n",
    "    response = requests.get(url)\n",
    "    data = response.json()\n",
    "    return data\n",
    "\n",
    "def get_ISBN_book_details(isbn):\n",
    "    url = f\"https://api.isbndb.com/book/{isbn}\"\n",
    "    response = requests.get(url)\n",
    "    data = response.json()\n",
    "    return data\n",
    "\n",
    "\n"
   ]
  },
  {
   "cell_type": "code",
   "execution_count": 9,
   "metadata": {},
   "outputs": [],
   "source": [
    "# Example usage\n",
    "isbn = \"9789655120219\"  # Replace this with your ISBN number\n",
    "book_details_G = get_G_book_details(isbn)\n",
    "book_details_open = get_Open_book_details(isbn)\n",
    "book_details_isbn = get_ISBN_book_details(isbn)\n"
   ]
  },
  {
   "cell_type": "code",
   "execution_count": 11,
   "metadata": {},
   "outputs": [
    {
     "data": {
      "text/plain": [
       "{'message': 'Unauthorized'}"
      ]
     },
     "execution_count": 11,
     "metadata": {},
     "output_type": "execute_result"
    }
   ],
   "source": [
    "book_details_isbn"
   ]
  },
  {
   "cell_type": "code",
   "execution_count": 11,
   "metadata": {},
   "outputs": [
    {
     "data": {
      "text/plain": [
       "[{'kind': 'books#volume',\n",
       "  'id': 'PpiQtgAACAAJ',\n",
       "  'etag': 'CsBojvaOfWE',\n",
       "  'selfLink': 'https://www.googleapis.com/books/v1/volumes/PpiQtgAACAAJ',\n",
       "  'volumeInfo': {'title': 'בלי לוגו',\n",
       "   'authors': ['נעמי קליין', 'עידית פז'],\n",
       "   'publishedDate': '2002',\n",
       "   'industryIdentifiers': [{'type': 'ISBN_10', 'identifier': '965512021X'},\n",
       "    {'type': 'ISBN_13', 'identifier': '9789655120219'}],\n",
       "   'readingModes': {'text': False, 'image': False},\n",
       "   'pageCount': 503,\n",
       "   'printType': 'BOOK',\n",
       "   'categories': ['Brand name products'],\n",
       "   'maturityRating': 'NOT_MATURE',\n",
       "   'allowAnonLogging': False,\n",
       "   'contentVersion': 'preview-1.0.0',\n",
       "   'language': 'iw',\n",
       "   'previewLink': 'http://books.google.com/books?id=PpiQtgAACAAJ&dq=isbn:9789655120219&hl=&cd=1&source=gbs_api',\n",
       "   'infoLink': 'http://books.google.com/books?id=PpiQtgAACAAJ&dq=isbn:9789655120219&hl=&source=gbs_api',\n",
       "   'canonicalVolumeLink': 'https://books.google.com/books/about/%D7%91%D7%9C%D7%99_%D7%9C%D7%95%D7%92%D7%95.html?hl=&id=PpiQtgAACAAJ'},\n",
       "  'saleInfo': {'country': 'IL',\n",
       "   'saleability': 'NOT_FOR_SALE',\n",
       "   'isEbook': False},\n",
       "  'accessInfo': {'country': 'IL',\n",
       "   'viewability': 'NO_PAGES',\n",
       "   'embeddable': False,\n",
       "   'publicDomain': False,\n",
       "   'textToSpeechPermission': 'ALLOWED',\n",
       "   'epub': {'isAvailable': False},\n",
       "   'pdf': {'isAvailable': False},\n",
       "   'webReaderLink': 'http://play.google.com/books/reader?id=PpiQtgAACAAJ&hl=&source=gbs_api',\n",
       "   'accessViewStatus': 'NONE',\n",
       "   'quoteSharingAllowed': False},\n",
       "  'searchInfo': {'textSnippet': 'No logo עוסק בהשלכותיה של הגלובליזציה התאגידית על כל תחומי חיינו: על עולם העבודה, המרחב הציבורי, תרבות הצריכה, החינוך, הרפואה, התזונה, ...'}}]"
      ]
     },
     "execution_count": 11,
     "metadata": {},
     "output_type": "execute_result"
    }
   ],
   "source": [
    "book_details[\"items\"]"
   ]
  },
  {
   "cell_type": "code",
   "execution_count": 28,
   "metadata": {},
   "outputs": [
    {
     "name": "stdout",
     "output_type": "stream",
     "text": [
      "No logo עוסק בהשלכותיה של הגלובליזציה התאגידית על כל תחומי חיינו: על עולם העבודה, המרחב הציבורי, תרבות הצריכה, החינוך, הרפואה, התזונה, ...\n"
     ]
    }
   ],
   "source": [
    "print(book_details[\"items\"][0][\"searchInfo\"][\"textSnippet\"])"
   ]
  },
  {
   "cell_type": "code",
   "execution_count": null,
   "metadata": {},
   "outputs": [],
   "source": [
    "https://openlibrary.org/api/books?bibkeys=ISBN:{isbn}&format=json"
   ]
  },
  {
   "cell_type": "code",
   "execution_count": 4,
   "metadata": {},
   "outputs": [],
   "source": [
    "def checksum_confirmation(isbn):\n",
    "    if isbn is None:\n",
    "        # Handle the case where the ISBN is None\n",
    "        return False  # or some other appropriate action\n",
    "    if len(isbn) == 10:  # ISBN-10\n",
    "        total = 0\n",
    "        for i, digit in enumerate(isbn[:-1]):\n",
    "            if not digit.isdigit():\n",
    "                return False\n",
    "            total += int(digit) * (10 - i)\n",
    "        check_digit = isbn[-1]\n",
    "        if check_digit == 'X':\n",
    "            check_digit = 10\n",
    "        elif check_digit.isdigit():\n",
    "            check_digit = int(check_digit)\n",
    "        else:\n",
    "            return False\n",
    "        return (total + check_digit) % 11 == 0\n",
    "    elif len(isbn) == 13:  # ISBN-13\n",
    "        total = 0\n",
    "        for i, digit in enumerate(isbn[:-1]):\n",
    "            if not digit.isdigit():\n",
    "                return False\n",
    "            if i % 2 == 0:\n",
    "                total += int(digit) * 1\n",
    "            else:\n",
    "                total += int(digit) * 3\n",
    "        check_digit = int(isbn[-1])\n",
    "        return (total + check_digit) % 10 == 0\n",
    "    else:\n",
    "        return False  # Invalid ISBN length\n"
   ]
  },
  {
   "cell_type": "code",
   "execution_count": 5,
   "metadata": {},
   "outputs": [
    {
     "data": {
      "text/plain": [
       "True"
      ]
     },
     "execution_count": 5,
     "metadata": {},
     "output_type": "execute_result"
    },
    {
     "ename": "",
     "evalue": "",
     "output_type": "error",
     "traceback": [
      "\u001b[1;31mThe Kernel crashed while executing code in the current cell or a previous cell. \n",
      "\u001b[1;31mPlease review the code in the cell(s) to identify a possible cause of the failure. \n",
      "\u001b[1;31mClick <a href='https://aka.ms/vscodeJupyterKernelCrash'>here</a> for more info. \n",
      "\u001b[1;31mView Jupyter <a href='command:jupyter.viewOutput'>log</a> for further details."
     ]
    }
   ],
   "source": [
    "checksum_confirmation(\"9789650707866\")"
   ]
  },
  {
   "cell_type": "code",
   "execution_count": null,
   "metadata": {},
   "outputs": [],
   "source": []
  }
 ],
 "metadata": {
  "kernelspec": {
   "display_name": "Python 3",
   "language": "python",
   "name": "python3"
  },
  "language_info": {
   "codemirror_mode": {
    "name": "ipython",
    "version": 3
   },
   "file_extension": ".py",
   "mimetype": "text/x-python",
   "name": "python",
   "nbconvert_exporter": "python",
   "pygments_lexer": "ipython3",
   "version": "3.9.13"
  },
  "orig_nbformat": 4
 },
 "nbformat": 4,
 "nbformat_minor": 2
}
